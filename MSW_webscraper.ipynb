{
 "cells": [
  {
   "cell_type": "markdown",
   "id": "60f95ffa",
   "metadata": {},
   "source": [
    "## MagicSeaWeed Web Scraper"
   ]
  },
  {
   "cell_type": "code",
   "execution_count": 351,
   "id": "dca87802",
   "metadata": {},
   "outputs": [],
   "source": [
    "from bs4 import BeautifulSoup \n",
    "import pandas as pd\n",
    "import requests\n",
    "import json\n",
    "import re\n",
    "from datetime import datetime"
   ]
  },
  {
   "cell_type": "code",
   "execution_count": 352,
   "id": "e7953efb",
   "metadata": {},
   "outputs": [],
   "source": [
    "url_surfspot = \"https://magicseaweed.com/{}-Surf-Report/2258/\""
   ]
  },
  {
   "cell_type": "code",
   "execution_count": 353,
   "id": "71668ccd",
   "metadata": {},
   "outputs": [],
   "source": [
    "#Surf spot I want to scrape\n",
    "surfspot = \"Punta-Rocas\""
   ]
  },
  {
   "cell_type": "markdown",
   "id": "667ea071",
   "metadata": {},
   "source": [
    "## Extract and Parse HTML and JSON data from webpage"
   ]
  },
  {
   "cell_type": "code",
   "execution_count": 354,
   "id": "f5c10b45",
   "metadata": {},
   "outputs": [],
   "source": [
    "response = requests.get(url_surfspot.format(surfspot))"
   ]
  },
  {
   "cell_type": "code",
   "execution_count": 355,
   "id": "d013cb79",
   "metadata": {},
   "outputs": [],
   "source": [
    "soup = BeautifulSoup(response.text, \"html.parser\")\n",
    "scripts = soup.find_all(\"script\")\n",
    "script_data = str(scripts[22]) "
   ]
  },
  {
   "cell_type": "code",
   "execution_count": 360,
   "id": "639796fc",
   "metadata": {},
   "outputs": [
    {
     "name": "stdout",
     "output_type": "stream",
     "text": [
      "{'timestamp': 1620450000, 'localTimestamp': 1620432000, 'issueTimestamp': 1620432000, 'fadedRating': 0, 'solidRating': 1, 'en_threeHourTimeText': '12am', 'threeHourTimeText': '12am', 'timezoneAbbr': '-05', 'swell': {'height': 0.9, 'absHeight': 0.88, 'absMinBreakingHeight': 0.38, 'absMaxBreakingHeight': 0.59, 'incomingSwellCount': 1, 'direction': 17.32, 'trueDirection': 197.32, 'compassDirection': 'SSW', 'period': 9, 'probability': 100, 'unit': 'm', 'minBreakingHeight': 0.4, 'maxBreakingHeight': 0.6, 'components': {'primary': {'height': 0.9, 'absHeight': 0.88, 'period': 9, 'absPeriod': 9, 'windSeaFraction': 0, 'power': 125, 'impact': 0.2478, 'direction': 17.32, 'trueDirection': 197.32, 'directionalSpread': 0, 'compassDirection': 'SSW', 'isOffshore': False, 'type': 2, 'absBreakingHeight': 0}, 'secondary': {'height': 0.3, 'absHeight': 0.33, 'period': 13, 'absPeriod': 13, 'windSeaFraction': 0, 'power': 59, 'impact': 0.2194, 'direction': 43.22, 'trueDirection': 223.22, 'directionalSpread': 0, 'compassDirection': 'SW', 'isOffshore': False, 'type': 3, 'absBreakingHeight': 0}, 'tertiary': {'height': 0.2, 'absHeight': 0.22, 'period': 14, 'absPeriod': 14, 'windSeaFraction': 0, 'power': 26, 'impact': 0.1978, 'direction': 92.5, 'trueDirection': 272.5, 'directionalSpread': 0, 'compassDirection': 'W', 'isOffshore': False, 'type': 4, 'absBreakingHeight': 0}}}, 'wind': {'speed': 17, 'direction': 331, 'trueDirection': 151, 'compassDirection': 'SSE', 'chill': 17, 'gusts': 26, 'unit': 'kph', 'rating': 3, 'stringDirection': 'Offshore'}}\n"
     ]
    }
   ],
   "source": [
    "# find the starting position of the json string\n",
    "start = script_data.find(\"timestamp\")-3\n",
    "end = script_data.find(\"}}],\")+3\n",
    "\n",
    "# slice the json string\n",
    "json_data = json.loads(script_data[start:end])\n",
    "print(json_data[0])"
   ]
  },
  {
   "cell_type": "code",
   "execution_count": 369,
   "id": "cc7314ce",
   "metadata": {
    "scrolled": true
   },
   "outputs": [
    {
     "name": "stdout",
     "output_type": "stream",
     "text": [
      "{'height': 0.9, 'absHeight': 0.88, 'period': 9, 'absPeriod': 9, 'windSeaFraction': 0, 'power': 125, 'impact': 0.2478, 'direction': 17.32, 'trueDirection': 197.32, 'directionalSpread': 0, 'compassDirection': 'SSW', 'isOffshore': False, 'type': 2, 'absBreakingHeight': 0}\n",
      "{'height': 0.4, 'absHeight': 0.43, 'period': 19, 'absPeriod': 19, 'windSeaFraction': 0, 'power': 182, 'impact': 0.2094, 'direction': 37.49, 'trueDirection': 217.49, 'directionalSpread': 0, 'compassDirection': 'SW', 'isOffshore': False, 'type': 2, 'absBreakingHeight': 0}\n"
     ]
    }
   ],
   "source": [
    "swell_data_today = json_data[0][\"swell\"][\"components\"][\"primary\"]\n",
    "swell_data_tommorow = json_data[11][\"swell\"][\"components\"][\"primary\"]\n",
    "print(swell_data_today)\n",
    "print(swell_data_tommorow)"
   ]
  },
  {
   "cell_type": "code",
   "execution_count": 371,
   "id": "4ceefc13",
   "metadata": {},
   "outputs": [
    {
     "name": "stdout",
     "output_type": "stream",
     "text": [
      "{'speed': 17, 'direction': 331, 'trueDirection': 151, 'compassDirection': 'SSE', 'chill': 17, 'gusts': 26, 'unit': 'kph', 'rating': 3, 'stringDirection': 'Offshore'}\n",
      "{'speed': 7, 'direction': 45, 'trueDirection': 225, 'compassDirection': 'SW', 'chill': 19, 'gusts': 7, 'unit': 'kph', 'rating': 3, 'stringDirection': 'Onshore'}\n"
     ]
    }
   ],
   "source": [
    "wind_data_today = json_data[0][\"wind\"]\n",
    "wind_data_tommorow = json_data[11][\"wind\"]\n",
    "print(wind_data_today)\n",
    "print(wind_data_tommorow)"
   ]
  },
  {
   "cell_type": "code",
   "execution_count": 400,
   "id": "df4a5cde",
   "metadata": {},
   "outputs": [
    {
     "name": "stdout",
     "output_type": "stream",
     "text": [
      ";;forecast tommorow\n"
     ]
    }
   ],
   "source": [
    "def forecast_today(swell_data_today, wind_data_today):\n",
    "    print(\"{} Surf Forecast\".format(surfspot))\n",
    "    print(\"Surf: {}m\".format(swell_data_today[\"height\"]))\n",
    "    print(\"Direction: {}\".format(swell_data_today[\"compassDirection\"]))\n",
    "    print(\"Wind Speed: {}kph\".format(wind_data_today[\"speed\"]))\n",
    "    print(\"Wind Direction: {}\".format(wind_data_today[\"compassDirection\"]))\n",
    "    return \"\"\n",
    "    \n",
    "def forecast_tommorow(swell_data_tommorow, wind_data_tommorow):\n",
    "    print(\"{} Surf Forecast for tommorow\".format(surfspot))\n",
    "    print(\"Surf: {}m\".format(swell_data_tommorow[\"height\"]))\n",
    "    print(\"Direction: {}\".format(swell_data_tommorow[\"compassDirection\"]))\n",
    "    print(\"Wind Speed: {}kph\".format(wind_data_tommorow[\"speed\"]))\n",
    "    print(\"Wind Direction: {}\".format(wind_data_tommorow[\"compassDirection\"]))\n",
    "    return \"\"\n",
    "\n",
    "user_request = input() \n"
   ]
  },
  {
   "cell_type": "code",
   "execution_count": 401,
   "id": "0c4f8ef8",
   "metadata": {
    "scrolled": true
   },
   "outputs": [
    {
     "name": "stdout",
     "output_type": "stream",
     "text": [
      "Punta-Rocas Surf Forecast for tommorow\n",
      "Surf: 0.4m\n",
      "Direction: SW\n",
      "Wind Speed: 7kph\n",
      "Wind Direction: SW\n",
      "\n"
     ]
    }
   ],
   "source": [
    "if user_request == \";;forecast today\":\n",
    "    print(forecast_today(swell_data_today, wind_data_today))\n",
    "elif user_request == \";;forecast tommorow\":\n",
    "    print(forecast_tommorow(swell_data_tommorow, wind_data_tommorow))\n"
   ]
  },
  {
   "cell_type": "code",
   "execution_count": 397,
   "id": "1cd915e9",
   "metadata": {},
   "outputs": [
    {
     "name": "stdout",
     "output_type": "stream",
     "text": [
      "2021-05-08 00:00:00\n"
     ]
    }
   ],
   "source": [
    "timestamp = json_data[0][\"timestamp\"]\n",
    "date = datetime.fromtimestamp(timestamp)\n",
    "print(date)"
   ]
  }
 ],
 "metadata": {
  "kernelspec": {
   "display_name": "Python 3",
   "language": "python",
   "name": "python3"
  },
  "language_info": {
   "codemirror_mode": {
    "name": "ipython",
    "version": 3
   },
   "file_extension": ".py",
   "mimetype": "text/x-python",
   "name": "python",
   "nbconvert_exporter": "python",
   "pygments_lexer": "ipython3",
   "version": "3.9.1"
  }
 },
 "nbformat": 4,
 "nbformat_minor": 5
}
